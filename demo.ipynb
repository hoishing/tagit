{
 "cells": [
  {
   "cell_type": "code",
   "execution_count": 1,
   "metadata": {},
   "outputs": [],
   "source": [
    "from tagit import (\n",
    "    DOCTYPE,  # special non-element\n",
    "    html,\n",
    "    div,\n",
    "    img,\n",
    "    body,\n",
    "    head,\n",
    "    title,\n",
    "    script,\n",
    "    select,\n",
    "    option,\n",
    ")\n",
    "from tagit import element  # for creating custom element\n"
   ]
  },
  {
   "cell_type": "code",
   "execution_count": 2,
   "metadata": {},
   "outputs": [
    {
     "data": {
      "text/plain": [
       "'<!DOCTYPE html><html><head><title>testing html template</title><script src=\"https://cdn.jsdelivr.net/npm/@unocss/runtime/attributify.global.js\" defer></script></head><body class=\"font-sans\"><img src=\"http://placekitten.com/150/100\" /><div class=\"text-xl\">pls select the direction:</div><select data-type=\"direction\"><option>E</option><option selected>S</option><option>W</option><option>N</option></select><MyElement props=\"some-props\" /></body></html>'"
      ]
     },
     "execution_count": 2,
     "metadata": {},
     "output_type": "execute_result"
    }
   ],
   "source": [
    "html_str = DOCTYPE + html(\n",
    "    [\n",
    "        head(\n",
    "            # use list to enclose multiple siblings\n",
    "            [\n",
    "                title(\"testing html template\"),\n",
    "                script(\n",
    "                    \"\",  # script require closing tag\n",
    "                    src=\"https://cdn.jsdelivr.net/npm/@unocss/runtime/attributify.global.js\",\n",
    "                    # attr=True will convert to attribute itself, eg. defer\n",
    "                    defer=True\n",
    "                ),\n",
    "            ]\n",
    "        ),\n",
    "        body(\n",
    "            [\n",
    "                # content-less element without closing tag\n",
    "                img(src=\"http://placekitten.com/150/100\"),\n",
    "\n",
    "                # cls attribute will convert to `class`\n",
    "                div(\"pls select the direction:\", cls=\"text-xl\"),\n",
    "                select(\n",
    "                    [\n",
    "                        # attr with bool False will be ommitted\n",
    "                        option(d, selected=(d == \"S\")) for d in \"ESWN\"\n",
    "                    ],\n",
    "\n",
    "                    # underscore will convert to hyphen, eg. `data-type`\n",
    "                    data_type=\"direction\"  \n",
    "                ),\n",
    "\n",
    "                # create custom element\n",
    "                element(tag=\"MyElement\", props=\"some-props\")\n",
    "            ],\n",
    "            cls=\"font-sans\",\n",
    "        ),\n",
    "    ]\n",
    ")\n",
    "\n",
    "html_str"
   ]
  },
  {
   "cell_type": "code",
   "execution_count": 3,
   "metadata": {},
   "outputs": [
    {
     "data": {
      "text/html": [
       "<!DOCTYPE html><html><head><title>testing html template</title><script src=\"https://cdn.jsdelivr.net/npm/@unocss/runtime/attributify.global.js\" defer></script></head><body class=\"font-sans\"><img src=\"http://placekitten.com/150/100\" /><div class=\"text-xl\">pls select the direction:</div><select data-type=\"direction\"><option>E</option><option selected>S</option><option>W</option><option>N</option></select><MyElement props=\"some-props\" /></body></html>"
      ],
      "text/plain": [
       "<IPython.core.display.HTML object>"
      ]
     },
     "metadata": {},
     "output_type": "display_data"
    }
   ],
   "source": [
    "from IPython.display import display, HTML\n",
    "display(HTML(html_str))"
   ]
  }
 ],
 "metadata": {
  "kernelspec": {
   "display_name": "Python 3.11.1 ('base-AKxH9jWp-py3.11')",
   "language": "python",
   "name": "python3"
  },
  "language_info": {
   "codemirror_mode": {
    "name": "ipython",
    "version": 3
   },
   "file_extension": ".py",
   "mimetype": "text/x-python",
   "name": "python",
   "nbconvert_exporter": "python",
   "pygments_lexer": "ipython3",
   "version": "3.11.1 (main, Dec 23 2022, 09:28:24) [Clang 14.0.0 (clang-1400.0.29.202)]"
  },
  "orig_nbformat": 4,
  "vscode": {
   "interpreter": {
    "hash": "0978d5158d568d9fe96dd168ffcaa47eb4ec68c909d98dba10971d90133c28e7"
   }
  }
 },
 "nbformat": 4,
 "nbformat_minor": 2
}
